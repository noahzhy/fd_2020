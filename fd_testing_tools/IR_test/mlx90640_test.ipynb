{
 "cells": [
  {
   "cell_type": "code",
   "execution_count": null,
   "metadata": {},
   "outputs": [],
   "source": [
    "##########################################\n",
    "# MLX90640 Thermal Camera w Raspberry Pi #\n",
    "##########################################\n",
    "\n",
    "import time, datetime\n",
    "import board\n",
    "import busio\n",
    "import numpy as np\n",
    "import adafruit_mlx90640\n",
    "import matplotlib.pyplot as plt\n",
    "from IPython import display\n",
    "\n",
    "\n",
    "i2c = busio.I2C(board.SCL, board.SDA)\n",
    "\n",
    "mlx = adafruit_mlx90640.MLX90640(i2c)\n",
    "# the refresh should be set for fps * 2\n",
    "mlx.refresh_rate = adafruit_mlx90640.RefreshRate.REFRESH_16_HZ\n",
    "\n",
    "local_time = datetime.datetime.now().strftime('%Y-%m-%d %H:%M:%S.%f')\n",
    "print(local_time)\n",
    "_zero = _start = time.time()\n",
    "\n",
    "frame = np.zeros(768)\n",
    "\n",
    "while True:\n",
    "    try:\n",
    "        _start = time.time()\n",
    "        mlx.getFrame(frame)\n",
    "    except ValueError as e:\n",
    "        print(e)\n",
    "        continue\n",
    "\n",
    "    res = np.array(frame).reshape((24,32))\n",
    "    res = np.around(res, 2)\n",
    "    seconds = time.time() - _start\n",
    "    fps = 1 / seconds\n",
    "    label = time.time() - _zero\n",
    "    print('{} FPS: {}'.format(label, round(fps, 1)))\n",
    "#     plt.title('{} FPS: {}'.format(label, round(fps, 1)))\n",
    "#     plt.imshow(res)\n",
    "#     plt.show()\n",
    "#     display.clear_output(wait=True)"
   ]
  },
  {
   "cell_type": "code",
   "execution_count": null,
   "metadata": {},
   "outputs": [],
   "source": []
  },
  {
   "cell_type": "code",
   "execution_count": null,
   "metadata": {},
   "outputs": [],
   "source": []
  }
 ],
 "metadata": {
  "kernelspec": {
   "display_name": "Python 3",
   "language": "python",
   "name": "python3"
  },
  "language_info": {
   "codemirror_mode": {
    "name": "ipython",
    "version": 3
   },
   "file_extension": ".py",
   "mimetype": "text/x-python",
   "name": "python",
   "nbconvert_exporter": "python",
   "pygments_lexer": "ipython3",
   "version": "3.7.3"
  }
 },
 "nbformat": 4,
 "nbformat_minor": 4
}
