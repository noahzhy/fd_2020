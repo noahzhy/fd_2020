{
 "cells": [
  {
   "cell_type": "code",
   "execution_count": 2,
   "metadata": {},
   "outputs": [
    {
     "ename": "KeyboardInterrupt",
     "evalue": "",
     "output_type": "error",
     "traceback": [
      "\u001b[0;31m---------------------------------------------------------------------------\u001b[0m",
      "\u001b[0;31mKeyboardInterrupt\u001b[0m                         Traceback (most recent call last)",
      "\u001b[0;32m<ipython-input-2-9ce7bb25c288>\u001b[0m in \u001b[0;36m<module>\u001b[0;34m\u001b[0m\n\u001b[1;32m     17\u001b[0m \u001b[0;32mwhile\u001b[0m \u001b[0;32mTrue\u001b[0m\u001b[0;34m:\u001b[0m\u001b[0;34m\u001b[0m\u001b[0;34m\u001b[0m\u001b[0m\n\u001b[1;32m     18\u001b[0m     \u001b[0;32mtry\u001b[0m\u001b[0;34m:\u001b[0m\u001b[0;34m\u001b[0m\u001b[0;34m\u001b[0m\u001b[0m\n\u001b[0;32m---> 19\u001b[0;31m         \u001b[0mmlx\u001b[0m\u001b[0;34m.\u001b[0m\u001b[0mgetFrame\u001b[0m\u001b[0;34m(\u001b[0m\u001b[0mframe\u001b[0m\u001b[0;34m)\u001b[0m\u001b[0;34m\u001b[0m\u001b[0;34m\u001b[0m\u001b[0m\n\u001b[0m\u001b[1;32m     20\u001b[0m     \u001b[0;32mexcept\u001b[0m \u001b[0mValueError\u001b[0m\u001b[0;34m:\u001b[0m\u001b[0;34m\u001b[0m\u001b[0;34m\u001b[0m\u001b[0m\n\u001b[1;32m     21\u001b[0m         \u001b[0;32mcontinue\u001b[0m\u001b[0;34m\u001b[0m\u001b[0;34m\u001b[0m\u001b[0m\n",
      "\u001b[0;32m~/.local/lib/python3.7/site-packages/adafruit_mlx90640.py\u001b[0m in \u001b[0;36mgetFrame\u001b[0;34m(self, framebuf)\u001b[0m\n\u001b[1;32m    141\u001b[0m \u001b[0;34m\u001b[0m\u001b[0m\n\u001b[1;32m    142\u001b[0m         \u001b[0;32mfor\u001b[0m \u001b[0m_\u001b[0m \u001b[0;32min\u001b[0m \u001b[0mrange\u001b[0m\u001b[0;34m(\u001b[0m\u001b[0;36m2\u001b[0m\u001b[0;34m)\u001b[0m\u001b[0;34m:\u001b[0m\u001b[0;34m\u001b[0m\u001b[0;34m\u001b[0m\u001b[0m\n\u001b[0;32m--> 143\u001b[0;31m             \u001b[0mstatus\u001b[0m \u001b[0;34m=\u001b[0m \u001b[0mself\u001b[0m\u001b[0;34m.\u001b[0m\u001b[0m_GetFrameData\u001b[0m\u001b[0;34m(\u001b[0m\u001b[0mmlx90640Frame\u001b[0m\u001b[0;34m)\u001b[0m\u001b[0;34m\u001b[0m\u001b[0;34m\u001b[0m\u001b[0m\n\u001b[0m\u001b[1;32m    144\u001b[0m             \u001b[0;32mif\u001b[0m \u001b[0mstatus\u001b[0m \u001b[0;34m<\u001b[0m \u001b[0;36m0\u001b[0m\u001b[0;34m:\u001b[0m\u001b[0;34m\u001b[0m\u001b[0;34m\u001b[0m\u001b[0m\n\u001b[1;32m    145\u001b[0m                 \u001b[0;32mraise\u001b[0m \u001b[0mRuntimeError\u001b[0m\u001b[0;34m(\u001b[0m\u001b[0;34m\"Frame data error\"\u001b[0m\u001b[0;34m)\u001b[0m\u001b[0;34m\u001b[0m\u001b[0;34m\u001b[0m\u001b[0m\n",
      "\u001b[0;32m~/.local/lib/python3.7/site-packages/adafruit_mlx90640.py\u001b[0m in \u001b[0;36m_GetFrameData\u001b[0;34m(self, frameData)\u001b[0m\n\u001b[1;32m    162\u001b[0m             \u001b[0mself\u001b[0m\u001b[0;34m.\u001b[0m\u001b[0m_I2CWriteWord\u001b[0m\u001b[0;34m(\u001b[0m\u001b[0;36m0x8000\u001b[0m\u001b[0;34m,\u001b[0m \u001b[0;36m0x0030\u001b[0m\u001b[0;34m)\u001b[0m\u001b[0;34m\u001b[0m\u001b[0;34m\u001b[0m\u001b[0m\n\u001b[1;32m    163\u001b[0m             \u001b[0;31m# print(\"Read frame\", cnt)\u001b[0m\u001b[0;34m\u001b[0m\u001b[0;34m\u001b[0m\u001b[0;34m\u001b[0m\u001b[0m\n\u001b[0;32m--> 164\u001b[0;31m             \u001b[0mself\u001b[0m\u001b[0;34m.\u001b[0m\u001b[0m_I2CReadWords\u001b[0m\u001b[0;34m(\u001b[0m\u001b[0;36m0x0400\u001b[0m\u001b[0;34m,\u001b[0m \u001b[0mframeData\u001b[0m\u001b[0;34m,\u001b[0m \u001b[0mend\u001b[0m\u001b[0;34m=\u001b[0m\u001b[0;36m832\u001b[0m\u001b[0;34m)\u001b[0m\u001b[0;34m\u001b[0m\u001b[0;34m\u001b[0m\u001b[0m\n\u001b[0m\u001b[1;32m    165\u001b[0m \u001b[0;34m\u001b[0m\u001b[0m\n\u001b[1;32m    166\u001b[0m             \u001b[0mself\u001b[0m\u001b[0;34m.\u001b[0m\u001b[0m_I2CReadWords\u001b[0m\u001b[0;34m(\u001b[0m\u001b[0;36m0x8000\u001b[0m\u001b[0;34m,\u001b[0m \u001b[0mstatusRegister\u001b[0m\u001b[0;34m)\u001b[0m\u001b[0;34m\u001b[0m\u001b[0;34m\u001b[0m\u001b[0m\n",
      "\u001b[0;32m~/.local/lib/python3.7/site-packages/adafruit_mlx90640.py\u001b[0m in \u001b[0;36m_I2CReadWords\u001b[0;34m(self, addr, buffer, end)\u001b[0m\n\u001b[1;32m    803\u001b[0m                 \u001b[0mread_words\u001b[0m \u001b[0;34m=\u001b[0m \u001b[0mmin\u001b[0m\u001b[0;34m(\u001b[0m\u001b[0mremainingWords\u001b[0m\u001b[0;34m,\u001b[0m \u001b[0mI2C_READ_LEN\u001b[0m\u001b[0;34m)\u001b[0m\u001b[0;34m\u001b[0m\u001b[0;34m\u001b[0m\u001b[0m\n\u001b[1;32m    804\u001b[0m                 i2c.write_then_readinto(\n\u001b[0;32m--> 805\u001b[0;31m                     \u001b[0maddrbuf\u001b[0m\u001b[0;34m,\u001b[0m \u001b[0minbuf\u001b[0m\u001b[0;34m,\u001b[0m \u001b[0min_end\u001b[0m\u001b[0;34m=\u001b[0m\u001b[0mread_words\u001b[0m \u001b[0;34m*\u001b[0m \u001b[0;36m2\u001b[0m\u001b[0;34m\u001b[0m\u001b[0;34m\u001b[0m\u001b[0m\n\u001b[0m\u001b[1;32m    806\u001b[0m                 )  # in bytes\n\u001b[1;32m    807\u001b[0m                 \u001b[0;31m# print(\"-> \", [hex(i) for i in addrbuf])\u001b[0m\u001b[0;34m\u001b[0m\u001b[0;34m\u001b[0m\u001b[0;34m\u001b[0m\u001b[0m\n",
      "\u001b[0;32m~/.local/lib/python3.7/site-packages/adafruit_bus_device/i2c_device.py\u001b[0m in \u001b[0;36mwrite_then_readinto\u001b[0;34m(self, out_buffer, in_buffer, out_start, out_end, in_start, in_end, stop)\u001b[0m\n\u001b[1;32m    154\u001b[0m                 \u001b[0mout_end\u001b[0m\u001b[0;34m=\u001b[0m\u001b[0mout_end\u001b[0m\u001b[0;34m,\u001b[0m\u001b[0;34m\u001b[0m\u001b[0;34m\u001b[0m\u001b[0m\n\u001b[1;32m    155\u001b[0m                 \u001b[0min_start\u001b[0m\u001b[0;34m=\u001b[0m\u001b[0min_start\u001b[0m\u001b[0;34m,\u001b[0m\u001b[0;34m\u001b[0m\u001b[0;34m\u001b[0m\u001b[0m\n\u001b[0;32m--> 156\u001b[0;31m                 \u001b[0min_end\u001b[0m\u001b[0;34m=\u001b[0m\u001b[0min_end\u001b[0m\u001b[0;34m,\u001b[0m\u001b[0;34m\u001b[0m\u001b[0;34m\u001b[0m\u001b[0m\n\u001b[0m\u001b[1;32m    157\u001b[0m             )\n\u001b[1;32m    158\u001b[0m \u001b[0;34m\u001b[0m\u001b[0m\n",
      "\u001b[0;32m~/.local/lib/python3.7/site-packages/busio.py\u001b[0m in \u001b[0;36mwriteto_then_readfrom\u001b[0;34m(self, address, buffer_out, buffer_in, out_start, out_end, in_start, in_end, stop)\u001b[0m\n\u001b[1;32m    134\u001b[0m             \u001b[0min_start\u001b[0m\u001b[0;34m=\u001b[0m\u001b[0min_start\u001b[0m\u001b[0;34m,\u001b[0m\u001b[0;34m\u001b[0m\u001b[0;34m\u001b[0m\u001b[0m\n\u001b[1;32m    135\u001b[0m             \u001b[0min_end\u001b[0m\u001b[0;34m=\u001b[0m\u001b[0min_end\u001b[0m\u001b[0;34m,\u001b[0m\u001b[0;34m\u001b[0m\u001b[0;34m\u001b[0m\u001b[0m\n\u001b[0;32m--> 136\u001b[0;31m             \u001b[0mstop\u001b[0m\u001b[0;34m=\u001b[0m\u001b[0mstop\u001b[0m\u001b[0;34m,\u001b[0m\u001b[0;34m\u001b[0m\u001b[0;34m\u001b[0m\u001b[0m\n\u001b[0m\u001b[1;32m    137\u001b[0m         )\n\u001b[1;32m    138\u001b[0m \u001b[0;34m\u001b[0m\u001b[0m\n",
      "\u001b[0;32m~/.local/lib/python3.7/site-packages/adafruit_blinka/microcontroller/generic_linux/i2c.py\u001b[0m in \u001b[0;36mwriteto_then_readfrom\u001b[0;34m(self, address, buffer_out, buffer_in, out_start, out_end, in_start, in_end, stop)\u001b[0m\n\u001b[1;32m     86\u001b[0m             \u001b[0;31m# To generate without a stop, do in one block transaction\u001b[0m\u001b[0;34m\u001b[0m\u001b[0;34m\u001b[0m\u001b[0;34m\u001b[0m\u001b[0m\n\u001b[1;32m     87\u001b[0m             readin = self._i2c_bus.read_i2c_block_data(\n\u001b[0;32m---> 88\u001b[0;31m                 \u001b[0maddress\u001b[0m\u001b[0;34m,\u001b[0m \u001b[0mbuffer_out\u001b[0m\u001b[0;34m[\u001b[0m\u001b[0mout_start\u001b[0m\u001b[0;34m:\u001b[0m\u001b[0mout_end\u001b[0m\u001b[0;34m]\u001b[0m\u001b[0;34m,\u001b[0m \u001b[0min_end\u001b[0m \u001b[0;34m-\u001b[0m \u001b[0min_start\u001b[0m\u001b[0;34m\u001b[0m\u001b[0;34m\u001b[0m\u001b[0m\n\u001b[0m\u001b[1;32m     89\u001b[0m             )\n\u001b[1;32m     90\u001b[0m             \u001b[0;32mfor\u001b[0m \u001b[0mi\u001b[0m \u001b[0;32min\u001b[0m \u001b[0mrange\u001b[0m\u001b[0;34m(\u001b[0m\u001b[0min_end\u001b[0m \u001b[0;34m-\u001b[0m \u001b[0min_start\u001b[0m\u001b[0;34m)\u001b[0m\u001b[0;34m:\u001b[0m\u001b[0;34m\u001b[0m\u001b[0;34m\u001b[0m\u001b[0m\n",
      "\u001b[0;32m~/.local/lib/python3.7/site-packages/Adafruit_PureIO/smbus.py\u001b[0m in \u001b[0;36mread_i2c_block_data\u001b[0;34m(self, addr, cmd, length)\u001b[0m\n\u001b[1;32m    271\u001b[0m \u001b[0;34m\u001b[0m\u001b[0m\n\u001b[1;32m    272\u001b[0m         \u001b[0;31m# Make ioctl call and return result data.\u001b[0m\u001b[0;34m\u001b[0m\u001b[0;34m\u001b[0m\u001b[0;34m\u001b[0m\u001b[0m\n\u001b[0;32m--> 273\u001b[0;31m         \u001b[0mioctl\u001b[0m\u001b[0;34m(\u001b[0m\u001b[0mself\u001b[0m\u001b[0;34m.\u001b[0m\u001b[0m_device\u001b[0m\u001b[0;34m.\u001b[0m\u001b[0mfileno\u001b[0m\u001b[0;34m(\u001b[0m\u001b[0;34m)\u001b[0m\u001b[0;34m,\u001b[0m \u001b[0mI2C_RDWR\u001b[0m\u001b[0;34m,\u001b[0m \u001b[0mrequest\u001b[0m\u001b[0;34m)\u001b[0m\u001b[0;34m\u001b[0m\u001b[0;34m\u001b[0m\u001b[0m\n\u001b[0m\u001b[1;32m    274\u001b[0m         return bytearray(\n\u001b[1;32m    275\u001b[0m             \u001b[0mresult\u001b[0m\u001b[0;34m.\u001b[0m\u001b[0mraw\u001b[0m\u001b[0;34m\u001b[0m\u001b[0;34m\u001b[0m\u001b[0m\n",
      "\u001b[0;31mKeyboardInterrupt\u001b[0m: "
     ]
    }
   ],
   "source": [
    "import time\n",
    "import board\n",
    "import busio\n",
    "import numpy as np\n",
    "import adafruit_mlx90640\n",
    "import matplotlib.pyplot as plt\n",
    "from IPython import display\n",
    "\n",
    "\n",
    "i2c = busio.I2C(board.SCL, board.SDA, frequency=800000)\n",
    "\n",
    "mlx = adafruit_mlx90640.MLX90640(i2c)\n",
    "mlx.refresh_rate = adafruit_mlx90640.RefreshRate.REFRESH_8_HZ\n",
    "\n",
    "frame = np.zeros(768)\n",
    "while True:\n",
    "    try:\n",
    "        mlx.getFrame(frame)\n",
    "    except ValueError:\n",
    "        continue\n",
    "\n",
    "    res = np.array(frame).reshape((24,32))\n",
    "    res = np.around(res, 1)\n",
    "#     print(res)\n",
    "\n",
    "    plt.imshow(res)\n",
    "    plt.show()\n",
    "    display.clear_output(wait=True)"
   ]
  },
  {
   "cell_type": "code",
   "execution_count": 26,
   "metadata": {},
   "outputs": [
    {
     "name": "stdout",
     "output_type": "stream",
     "text": [
      "Average MLX90640 Temperature: 28.8C (83.9F)\n"
     ]
    }
   ],
   "source": [
    "##################################\n",
    "# MLX90640 Test with Raspberry Pi\n",
    "##################################\n",
    "#\n",
    "import time,board,busio\n",
    "import numpy as np\n",
    "import adafruit_mlx90640\n",
    "\n",
    "i2c = busio.I2C(board.SCL, board.SDA, frequency=400000) # setup I2C\n",
    "mlx = adafruit_mlx90640.MLX90640(i2c) # begin MLX90640 with I2C comm\n",
    "mlx.refresh_rate = adafruit_mlx90640.RefreshRate.REFRESH_2_HZ # set refresh rate\n",
    "\n",
    "frame = np.zeros((24*32,)) # setup array for storing all 768 temperatures\n",
    "while True:\n",
    "    try:\n",
    "        mlx.getFrame(frame) # read MLX temperatures into frame var\n",
    "        break\n",
    "    except ValueError:\n",
    "        continue # if error, just read again\n",
    "\n",
    "# print out the average temperature from the MLX90640\n",
    "print('Average MLX90640 Temperature: {0:2.1f}C ({1:2.1f}F)'.\\\n",
    "      format(np.mean(frame),(((9.0/5.0)*np.mean(frame))+32.0)))"
   ]
  },
  {
   "cell_type": "code",
   "execution_count": null,
   "metadata": {},
   "outputs": [],
   "source": [
    "##########################################\n",
    "# MLX90640 Thermal Camera w Raspberry Pi\n",
    "# -- 2Hz Sampling with Simple Routine\n",
    "##########################################\n",
    "#\n",
    "import time,board,busio\n",
    "import numpy as np\n",
    "import adafruit_mlx90640\n",
    "import matplotlib.pyplot as plt\n",
    "\n",
    "i2c = busio.I2C(board.SCL, board.SDA, frequency=400000) # setup I2C\n",
    "mlx = adafruit_mlx90640.MLX90640(i2c) # begin MLX90640 with I2C comm\n",
    "mlx.refresh_rate = adafruit_mlx90640.RefreshRate.REFRESH_8_HZ # set refresh rate\n",
    "mlx_shape = (24,32)\n",
    "\n",
    "# setup the figure for plotting\n",
    "plt.ion() # enables interactive plotting\n",
    "fig,ax = plt.subplots(figsize=(12,7))\n",
    "therm1 = ax.imshow(np.zeros(mlx_shape),vmin=0,vmax=60) #start plot with zeros\n",
    "cbar = fig.colorbar(therm1) # setup colorbar for temps\n",
    "cbar.set_label('Temperature [$^{\\circ}$C]',fontsize=14) # colorbar label\n",
    "\n",
    "frame = np.zeros((24*32,)) # setup array for storing all 768 temperatures\n",
    "t_array = []\n",
    "while True:\n",
    "    t1 = time.monotonic()\n",
    "    try:\n",
    "        mlx.getFrame(frame) # read MLX temperatures into frame var\n",
    "        data_array = (np.reshape(frame,mlx_shape)) # reshape to 24x32\n",
    "        therm1.set_data(np.fliplr(data_array)) # flip left to right\n",
    "        therm1.set_clim(vmin=np.min(data_array),vmax=np.max(data_array)) # set bounds\n",
    "        cbar.on_mappable_changed(therm1) # update colorbar range\n",
    "        plt.pause(0.001) # required\n",
    "        fig.savefig('mlx90640_test_fliplr.png',dpi=300,facecolor='#FCFCFC',\n",
    "                    bbox_inches='tight') # comment out to speed up\n",
    "        t_array.append(time.monotonic()-t1)\n",
    "        print('Sample Rate: {0:2.1f}fps'.format(len(t_array)/np.sum(t_array)))\n",
    "    except ValueError:\n",
    "        continue # if error, just read again"
   ]
  },
  {
   "cell_type": "code",
   "execution_count": null,
   "metadata": {},
   "outputs": [],
   "source": []
  }
 ],
 "metadata": {
  "kernelspec": {
   "display_name": "Python 3",
   "language": "python",
   "name": "python3"
  },
  "language_info": {
   "codemirror_mode": {
    "name": "ipython",
    "version": 3
   },
   "file_extension": ".py",
   "mimetype": "text/x-python",
   "name": "python",
   "nbconvert_exporter": "python",
   "pygments_lexer": "ipython3",
   "version": "3.7.3"
  }
 },
 "nbformat": 4,
 "nbformat_minor": 4
}
